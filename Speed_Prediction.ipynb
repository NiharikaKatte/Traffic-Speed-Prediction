{
 "cells": [
  {
   "cell_type": "markdown",
   "metadata": {},
   "source": [
    "# Install required libraries"
   ]
  },
  {
   "cell_type": "code",
   "execution_count": 1,
   "metadata": {},
   "outputs": [],
   "source": [
    "# # uncomment and run this cell to install packages\n",
    "# !pip3 install pandas scikit-learn xgboost workalendar==14.0.0\n",
    "# # after installing packages restart kernel"
   ]
  },
  {
   "cell_type": "markdown",
   "metadata": {},
   "source": [
    "# Import required libraries"
   ]
  },
  {
   "cell_type": "code",
   "execution_count": 2,
   "metadata": {},
   "outputs": [],
   "source": [
    "import pandas as pd\n",
    "from sklearn.model_selection import train_test_split\n",
    "from sklearn.metrics import mean_squared_error\n",
    "from xgboost import XGBRegressor\n",
    "from workalendar.asia import HongKong"
   ]
  },
  {
   "cell_type": "markdown",
   "metadata": {},
   "source": [
    "# Read test and train data sets from csv"
   ]
  },
  {
   "cell_type": "code",
   "execution_count": 3,
   "metadata": {},
   "outputs": [
    {
     "data": {
      "text/html": [
       "<div>\n",
       "<style scoped>\n",
       "    .dataframe tbody tr th:only-of-type {\n",
       "        vertical-align: middle;\n",
       "    }\n",
       "\n",
       "    .dataframe tbody tr th {\n",
       "        vertical-align: top;\n",
       "    }\n",
       "\n",
       "    .dataframe thead th {\n",
       "        text-align: right;\n",
       "    }\n",
       "</style>\n",
       "<table border=\"1\" class=\"dataframe\">\n",
       "  <thead>\n",
       "    <tr style=\"text-align: right;\">\n",
       "      <th></th>\n",
       "      <th>id</th>\n",
       "      <th>date</th>\n",
       "      <th>speed</th>\n",
       "    </tr>\n",
       "  </thead>\n",
       "  <tbody>\n",
       "    <tr>\n",
       "      <th>0</th>\n",
       "      <td>0</td>\n",
       "      <td>1/1/2017 0:00</td>\n",
       "      <td>43.002930</td>\n",
       "    </tr>\n",
       "    <tr>\n",
       "      <th>1</th>\n",
       "      <td>1</td>\n",
       "      <td>1/1/2017 1:00</td>\n",
       "      <td>46.118696</td>\n",
       "    </tr>\n",
       "    <tr>\n",
       "      <th>2</th>\n",
       "      <td>2</td>\n",
       "      <td>1/1/2017 2:00</td>\n",
       "      <td>44.294158</td>\n",
       "    </tr>\n",
       "    <tr>\n",
       "      <th>3</th>\n",
       "      <td>3</td>\n",
       "      <td>1/1/2017 3:00</td>\n",
       "      <td>41.067468</td>\n",
       "    </tr>\n",
       "    <tr>\n",
       "      <th>4</th>\n",
       "      <td>4</td>\n",
       "      <td>1/1/2017 4:00</td>\n",
       "      <td>46.448653</td>\n",
       "    </tr>\n",
       "  </tbody>\n",
       "</table>\n",
       "</div>"
      ],
      "text/plain": [
       "   id           date      speed\n",
       "0   0  1/1/2017 0:00  43.002930\n",
       "1   1  1/1/2017 1:00  46.118696\n",
       "2   2  1/1/2017 2:00  44.294158\n",
       "3   3  1/1/2017 3:00  41.067468\n",
       "4   4  1/1/2017 4:00  46.448653"
      ]
     },
     "execution_count": 3,
     "metadata": {},
     "output_type": "execute_result"
    }
   ],
   "source": [
    "testData = pd.read_csv('test.csv')\n",
    "trainData = pd.read_csv('train.csv')\n",
    "trainData.head()"
   ]
  },
  {
   "cell_type": "markdown",
   "metadata": {},
   "source": [
    "# Feature engineering"
   ]
  },
  {
   "cell_type": "code",
   "execution_count": 4,
   "metadata": {},
   "outputs": [],
   "source": [
    "# date time formating\n",
    "date_format_string ='%d/%m/%Y %H:%M'\n",
    "testData.date = pd.to_datetime(testData.date, format=date_format_string)\n",
    "trainData.date = pd.to_datetime(trainData.date, format=date_format_string)\n",
    "# feature creation \n",
    "def FeatureCreation(Data):    \n",
    "    Data['year']=Data['date'].dt.year \n",
    "    Data['month']=Data['date'].dt.month \n",
    "    Data['day']=Data['date'].dt.day\n",
    "    Data['dayofweek_num']=Data['date'].dt.dayofweek\n",
    "    Data['Hour'] = Data['date'].dt.hour\n",
    "    Data['weekofyear'] = Data['date'].dt.weekofyear\n",
    "    Data['date_only'] = Data['date'].dt.date\n",
    "    return Data"
   ]
  },
  {
   "cell_type": "markdown",
   "metadata": {},
   "source": [
    "# Getting holiday dates for years 2017 and 2018"
   ]
  },
  {
   "cell_type": "code",
   "execution_count": 5,
   "metadata": {},
   "outputs": [
    {
     "data": {
      "text/html": [
       "<div>\n",
       "<style scoped>\n",
       "    .dataframe tbody tr th:only-of-type {\n",
       "        vertical-align: middle;\n",
       "    }\n",
       "\n",
       "    .dataframe tbody tr th {\n",
       "        vertical-align: top;\n",
       "    }\n",
       "\n",
       "    .dataframe thead th {\n",
       "        text-align: right;\n",
       "    }\n",
       "</style>\n",
       "<table border=\"1\" class=\"dataframe\">\n",
       "  <thead>\n",
       "    <tr style=\"text-align: right;\">\n",
       "      <th></th>\n",
       "      <th>date_only</th>\n",
       "      <th>is_holiday</th>\n",
       "    </tr>\n",
       "  </thead>\n",
       "  <tbody>\n",
       "    <tr>\n",
       "      <th>0</th>\n",
       "      <td>2017-01-01</td>\n",
       "      <td>1</td>\n",
       "    </tr>\n",
       "    <tr>\n",
       "      <th>1</th>\n",
       "      <td>2017-01-02</td>\n",
       "      <td>1</td>\n",
       "    </tr>\n",
       "    <tr>\n",
       "      <th>2</th>\n",
       "      <td>2017-01-28</td>\n",
       "      <td>1</td>\n",
       "    </tr>\n",
       "    <tr>\n",
       "      <th>3</th>\n",
       "      <td>2017-01-29</td>\n",
       "      <td>1</td>\n",
       "    </tr>\n",
       "    <tr>\n",
       "      <th>4</th>\n",
       "      <td>2017-01-30</td>\n",
       "      <td>1</td>\n",
       "    </tr>\n",
       "  </tbody>\n",
       "</table>\n",
       "</div>"
      ],
      "text/plain": [
       "    date_only  is_holiday\n",
       "0  2017-01-01           1\n",
       "1  2017-01-02           1\n",
       "2  2017-01-28           1\n",
       "3  2017-01-29           1\n",
       "4  2017-01-30           1"
      ]
     },
     "execution_count": 5,
     "metadata": {},
     "output_type": "execute_result"
    }
   ],
   "source": [
    "cal = HongKong()\n",
    "holidays_2017 = pd.DataFrame(cal.holidays(2017),columns =['date_only','holiday'])\n",
    "holidays_2018 = pd.DataFrame(cal.holidays(2018),columns =['date_only','holiday'])\n",
    "holidays = pd.concat([holidays_2017,holidays_2018],ignore_index=True, sort=False)\n",
    "holidays = holidays.drop('holiday', axis=1)\n",
    "holidays['is_holiday'] = 1\n",
    "holidays.head()"
   ]
  },
  {
   "cell_type": "markdown",
   "metadata": {},
   "source": [
    "# Train, validation and test sets"
   ]
  },
  {
   "cell_type": "code",
   "execution_count": 6,
   "metadata": {},
   "outputs": [],
   "source": [
    "# feature creation \n",
    "trainData = FeatureCreation(trainData)\n",
    "# adding is holiday feature, it is 1 if the day is holiday else 0\n",
    "trainData =  pd.merge(trainData,holidays, how='left', on=['date_only'])\n",
    "trainData['is_holiday'] = trainData['is_holiday'].fillna(0)\n",
    "testData = FeatureCreation(testData)\n",
    "testData =  pd.merge(testData,holidays, how='left', on=['date_only'])\n",
    "testData['is_holiday'] = testData['is_holiday'].fillna(0)\n",
    "# features\n",
    "features = ['year','month','day','dayofweek_num','Hour','weekofyear','is_holiday']\n",
    "X = trainData[features]\n",
    "y = trainData.speed\n",
    "X_test = testData[features]\n",
    "# train test split\n",
    "train_X, val_X, train_y, val_y = train_test_split(X, y, random_state = 0)"
   ]
  },
  {
   "cell_type": "code",
   "execution_count": 7,
   "metadata": {},
   "outputs": [
    {
     "name": "stdout",
     "output_type": "stream",
     "text": [
      "       year  month  day  dayofweek_num  Hour  weekofyear  is_holiday\n",
      "8894   2018      1    9              1    11           2         0.0\n",
      "3701   2017      6    3              5    14          22         0.0\n",
      "2499   2017      4   14              4    12          15         1.0\n",
      "13829  2018     12   17              0     1          51         0.0\n",
      "11467  2018      7    2              0    14          27         1.0\n",
      "...     ...    ...  ...            ...   ...         ...         ...\n",
      "13123  2018     10   26              4     6          43         0.0\n",
      "3264   2017      5   16              1     9          20         0.0\n",
      "9845   2018      3   14              2    18          11         0.0\n",
      "10799  2018      5   18              4    12          20         0.0\n",
      "2732   2017      4   24              0     5          17         0.0\n",
      "\n",
      "[10522 rows x 7 columns]\n"
     ]
    }
   ],
   "source": [
    "print(train_X)"
   ]
  },
  {
   "cell_type": "markdown",
   "metadata": {},
   "source": [
    "# Model XGBoost Regression "
   ]
  },
  {
   "cell_type": "code",
   "execution_count": 8,
   "metadata": {},
   "outputs": [
    {
     "name": "stdout",
     "output_type": "stream",
     "text": [
      "11.002992890633738\n"
     ]
    }
   ],
   "source": [
    "# XGBRegressor model\n",
    "my_model = XGBRegressor(n_estimators=1000, learning_rate=0.05)\n",
    "# fit model with train features and label. early stopping prevents overfitting\n",
    "my_model.fit(train_X, train_y, \n",
    "             early_stopping_rounds=5, \n",
    "             eval_set=[(val_X, val_y)], \n",
    "             verbose=False)\n",
    "# validation set MSE \n",
    "mse = mean_squared_error(my_model.predict(val_X), val_y)\n",
    "print(mse)"
   ]
  },
  {
   "cell_type": "markdown",
   "metadata": {},
   "source": [
    "# Model fitting and prediction"
   ]
  },
  {
   "cell_type": "code",
   "execution_count": 9,
   "metadata": {},
   "outputs": [
    {
     "data": {
      "text/plain": [
       "XGBRegressor(base_score=0.5, booster='gbtree', colsample_bylevel=1,\n",
       "             colsample_bynode=1, colsample_bytree=1, gamma=0, gpu_id=-1,\n",
       "             importance_type='gain', interaction_constraints='',\n",
       "             learning_rate=0.05, max_delta_step=0, max_depth=6,\n",
       "             min_child_weight=1, missing=nan, monotone_constraints='()',\n",
       "             n_estimators=1000, n_jobs=0, num_parallel_tree=1, random_state=0,\n",
       "             reg_alpha=0, reg_lambda=1, scale_pos_weight=1, subsample=1,\n",
       "             tree_method='exact', validate_parameters=1, verbosity=None)"
      ]
     },
     "execution_count": 9,
     "metadata": {},
     "output_type": "execute_result"
    }
   ],
   "source": [
    "# fitting model with full data set\n",
    "my_model.fit(X, y,\n",
    "             early_stopping_rounds=5, \n",
    "             eval_set=[(val_X, val_y)], \n",
    "             verbose=False)"
   ]
  },
  {
   "cell_type": "code",
   "execution_count": 10,
   "metadata": {},
   "outputs": [],
   "source": [
    "# prediction for test data set \n",
    "preds = my_model.predict(X_test)\n",
    "# storing predictions into csv file\n",
    "df = pd.DataFrame(preds)\n",
    "pred = pd.DataFrame()\n",
    "pred['id'] = df.index\n",
    "pred['speed']=df[0]\n",
    "pred.head()\n",
    "pred.to_csv('test_predictions.csv', index = False)"
   ]
  }
 ],
 "metadata": {
  "kernelspec": {
   "display_name": "Python 3",
   "language": "python",
   "name": "python3"
  },
  "language_info": {
   "codemirror_mode": {
    "name": "ipython",
    "version": 3
   },
   "file_extension": ".py",
   "mimetype": "text/x-python",
   "name": "python",
   "nbconvert_exporter": "python",
   "pygments_lexer": "ipython3",
   "version": "3.8.3"
  }
 },
 "nbformat": 4,
 "nbformat_minor": 4
}
